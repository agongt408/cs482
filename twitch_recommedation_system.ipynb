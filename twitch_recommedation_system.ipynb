{
 "cells": [
  {
   "attachments": {},
   "cell_type": "markdown",
   "id": "d3f7f8a7",
   "metadata": {
    "cell_style": "center"
   },
   "source": [
    "# Twitch Recommendation System"
   ]
  },
  {
   "cell_type": "code",
   "execution_count": 2,
   "id": "29dec76e",
   "metadata": {},
   "outputs": [],
   "source": [
    "import tensorflow as tf\n",
    "import numpy as np\n",
    "import pandas as pd\n",
    "import tqdm"
   ]
  },
  {
   "cell_type": "code",
   "execution_count": 3,
   "id": "d33532d5",
   "metadata": {},
   "outputs": [
    {
     "data": {
      "text/plain": [
       "'2.11.0'"
      ]
     },
     "execution_count": 3,
     "metadata": {},
     "output_type": "execute_result"
    }
   ],
   "source": [
    "tf.__version__"
   ]
  },
  {
   "attachments": {},
   "cell_type": "markdown",
   "id": "c9c2e960",
   "metadata": {},
   "source": [
    "## Data\n",
    "\n",
    "### Description\n",
    "\n",
    "This is a dataset of users consuming streaming content on Twitch. We retrieved all streamers, and all users connected in their respective chats, every 10 minutes during 43 days.\n",
    "\n",
    "### Metadata\n",
    "\n",
    "Start and stop times are provided as integers and represent periods of 10 minutes. Stream ID could be used to retrieve a single broadcast segment from a streamer (not used in our work).\n",
    "1. User ID (anonymized)\n",
    "2. Stream ID\n",
    "3. Streamer username\n",
    "4. Time start\n",
    "5. Time stop"
   ]
  },
  {
   "cell_type": "code",
   "execution_count": 6,
   "id": "c6087819",
   "metadata": {},
   "outputs": [],
   "source": [
    "cols = [\"user\",\"stream\",\"streamer\",\"start\",\"stop\"]\n",
    "data = pd.read_csv('data/100k_a.csv', names=cols)"
   ]
  },
  {
   "cell_type": "code",
   "execution_count": 7,
   "id": "b71fdb56",
   "metadata": {},
   "outputs": [
    {
     "data": {
      "text/html": [
       "<div>\n",
       "<style scoped>\n",
       "    .dataframe tbody tr th:only-of-type {\n",
       "        vertical-align: middle;\n",
       "    }\n",
       "\n",
       "    .dataframe tbody tr th {\n",
       "        vertical-align: top;\n",
       "    }\n",
       "\n",
       "    .dataframe thead th {\n",
       "        text-align: right;\n",
       "    }\n",
       "</style>\n",
       "<table border=\"1\" class=\"dataframe\">\n",
       "  <thead>\n",
       "    <tr style=\"text-align: right;\">\n",
       "      <th></th>\n",
       "      <th>user</th>\n",
       "      <th>stream</th>\n",
       "      <th>streamer</th>\n",
       "      <th>start</th>\n",
       "      <th>stop</th>\n",
       "    </tr>\n",
       "  </thead>\n",
       "  <tbody>\n",
       "    <tr>\n",
       "      <th>0</th>\n",
       "      <td>1</td>\n",
       "      <td>33842865744</td>\n",
       "      <td>mithrain</td>\n",
       "      <td>154</td>\n",
       "      <td>156</td>\n",
       "    </tr>\n",
       "    <tr>\n",
       "      <th>1</th>\n",
       "      <td>1</td>\n",
       "      <td>33846768288</td>\n",
       "      <td>alptv</td>\n",
       "      <td>166</td>\n",
       "      <td>169</td>\n",
       "    </tr>\n",
       "    <tr>\n",
       "      <th>2</th>\n",
       "      <td>1</td>\n",
       "      <td>33886469056</td>\n",
       "      <td>mithrain</td>\n",
       "      <td>587</td>\n",
       "      <td>588</td>\n",
       "    </tr>\n",
       "    <tr>\n",
       "      <th>3</th>\n",
       "      <td>1</td>\n",
       "      <td>33887624992</td>\n",
       "      <td>wtcn</td>\n",
       "      <td>589</td>\n",
       "      <td>591</td>\n",
       "    </tr>\n",
       "    <tr>\n",
       "      <th>4</th>\n",
       "      <td>1</td>\n",
       "      <td>33890145056</td>\n",
       "      <td>jrokezftw</td>\n",
       "      <td>591</td>\n",
       "      <td>594</td>\n",
       "    </tr>\n",
       "    <tr>\n",
       "      <th>...</th>\n",
       "      <td>...</td>\n",
       "      <td>...</td>\n",
       "      <td>...</td>\n",
       "      <td>...</td>\n",
       "      <td>...</td>\n",
       "    </tr>\n",
       "    <tr>\n",
       "      <th>3051728</th>\n",
       "      <td>100000</td>\n",
       "      <td>34167930576</td>\n",
       "      <td>mckytv</td>\n",
       "      <td>3582</td>\n",
       "      <td>3583</td>\n",
       "    </tr>\n",
       "    <tr>\n",
       "      <th>3051729</th>\n",
       "      <td>100000</td>\n",
       "      <td>34168288656</td>\n",
       "      <td>natehill</td>\n",
       "      <td>3582</td>\n",
       "      <td>3583</td>\n",
       "    </tr>\n",
       "    <tr>\n",
       "      <th>3051730</th>\n",
       "      <td>100000</td>\n",
       "      <td>34169594512</td>\n",
       "      <td>fortnite</td>\n",
       "      <td>3582</td>\n",
       "      <td>3584</td>\n",
       "    </tr>\n",
       "    <tr>\n",
       "      <th>3051731</th>\n",
       "      <td>100000</td>\n",
       "      <td>34180223072</td>\n",
       "      <td>highdistortion</td>\n",
       "      <td>3709</td>\n",
       "      <td>3711</td>\n",
       "    </tr>\n",
       "    <tr>\n",
       "      <th>3051732</th>\n",
       "      <td>100000</td>\n",
       "      <td>34181187808</td>\n",
       "      <td>symfuhny</td>\n",
       "      <td>3706</td>\n",
       "      <td>3708</td>\n",
       "    </tr>\n",
       "  </tbody>\n",
       "</table>\n",
       "<p>3051733 rows × 5 columns</p>\n",
       "</div>"
      ],
      "text/plain": [
       "           user       stream        streamer  start  stop\n",
       "0             1  33842865744        mithrain    154   156\n",
       "1             1  33846768288           alptv    166   169\n",
       "2             1  33886469056        mithrain    587   588\n",
       "3             1  33887624992            wtcn    589   591\n",
       "4             1  33890145056       jrokezftw    591   594\n",
       "...         ...          ...             ...    ...   ...\n",
       "3051728  100000  34167930576          mckytv   3582  3583\n",
       "3051729  100000  34168288656        natehill   3582  3583\n",
       "3051730  100000  34169594512        fortnite   3582  3584\n",
       "3051731  100000  34180223072  highdistortion   3709  3711\n",
       "3051732  100000  34181187808        symfuhny   3706  3708\n",
       "\n",
       "[3051733 rows x 5 columns]"
      ]
     },
     "execution_count": 7,
     "metadata": {},
     "output_type": "execute_result"
    }
   ],
   "source": [
    "data"
   ]
  },
  {
   "cell_type": "code",
   "execution_count": 8,
   "id": "effab312",
   "metadata": {},
   "outputs": [
    {
     "name": "stdout",
     "output_type": "stream",
     "text": [
      "Num time periods: 6148\n",
      "Num users: 100000\n",
      "Num streamers: 162625\n",
      "Num interactions: 3051733\n",
      "Estimated watch time (hrs): 1598118.5\n"
     ]
    }
   ],
   "source": [
    "max_step = max(data.start.max(),data.stop.max())\n",
    "data.user, _ = pd.factorize(data.user) # Convert names to categorical labels\n",
    "data.streamer, _ = pd.factorize(data.streamer) # Convert names to categorical labels\n",
    "\n",
    "num_users = data.user.nunique()\n",
    "num_streamers = data.streamer.nunique()\n",
    "\n",
    "print('Num time periods:', max_step)\n",
    "print(\"Num users:\", num_users)\n",
    "print(\"Num streamers:\", num_streamers)\n",
    "print(\"Num interactions:\", len(data))\n",
    "print(\"Estimated watch time (hrs):\", (data['stop']-data['start']).sum() * 10 / 60)"
   ]
  },
  {
   "cell_type": "code",
   "execution_count": 9,
   "id": "b507355b",
   "metadata": {},
   "outputs": [],
   "source": [
    "def get_data_availability(data, max_step, num_users, num_streamers):\n",
    "    av_masks = {}\n",
    "    for s in tqdm.tqdm(range(max_step+1)):\n",
    "        av_streamers = data[(data.start<=s) & (data.stop>s)].streamer.unique().tolist()\n",
    "        # Convert to vector\n",
    "        av_vector = tf.keras.utils.to_categorical(av_streamers, num_classes=num_streamers).max(axis=0)\n",
    "        av_masks[s] = np.tile(av_vector, num_users).reshape((num_users, num_streamers))\n",
    "\n",
    "    return av_masks\n",
    "\n",
    "    # # Compute availability matrix of size (num_timesteps x max_available)\n",
    "    # max_av   = max([len(v) for _,v in ts.items()])\n",
    "    # av_tens = torch.zeros(max_step,max_av).type(torch.long)\n",
    "    # for k,v in ts.items():\n",
    "    #     av_tens[k,:len(v)] = torch.LongTensor(v)\n",
    "    # args.av_tens = av_tens.to(args.device)\n",
    "    # return data_fu"
   ]
  },
  {
   "cell_type": "code",
   "execution_count": 10,
   "id": "810c442c",
   "metadata": {},
   "outputs": [
    {
     "name": "stderr",
     "output_type": "stream",
     "text": [
      "  0%|          | 1/6149 [00:56<95:50:35, 56.12s/it]"
     ]
    }
   ],
   "source": [
    "available_streamers = get_data_availability(data, max_step, num_users, num_streamers)"
   ]
  },
  {
   "cell_type": "code",
   "execution_count": null,
   "id": "b90f8251",
   "metadata": {},
   "outputs": [],
   "source": [
    "# class ModelFactory(object):\n",
    "#     def __init__(self, num_users, num_items, latent_dim):\n",
    "#         self.num_users, self.num_items, self.latent_dim = num_users, num_items, latent_dim\n",
    "#         self.max_seq_len = 10\n",
    "\n",
    "#         self.user_embedding = tf.keras.layers.Embedding(num_users, latent_dim, name='user_embedding')\n",
    "#         self.item_embedding = tf.keras.layers.Embedding(num_items, latent_dim, name='item_embedding')\n",
    "\n",
    "#         self.lstm1 = tf.keras.layers.LSTM(latent_dim, return_sequences=True)\n",
    "#         self.lstm2 = tf.keras.layers.LSTM(latent_dim, return_sequences=True)\n",
    "#         self.lstm3 = tf.keras.layers.LSTM(latent_dim)\n",
    "\n",
    "#     def embedding_model(self):\n",
    "#         inputs = tf.keras.layers.Input(shape=(2,))\n",
    "#         user_ids, item_ids = inputs[:, 0], inputs[:, 1]\n",
    "#         user_embed = self.user_embedding(user_ids)\n",
    "#         item_embed = self.item_embedding(item_ids)\n",
    "#         outputs = tf.keras.layers.Dot(axes=1)(user_embed, item_embed)\n",
    "\n",
    "#         return tf.keras.Model(inputs, outputs)\n",
    "\n",
    "#     def recommendation_model(self):\n",
    "#         inputs = tf.keras.layers.Input(shape=(self.max_seq_len, self.latent_dim))\n",
    "#         x = self.lstm1(inputs)\n",
    "#         x = self.lstm2(x)\n",
    "#         x = self.lstm3(x)\n",
    "#         return tf.keras.Model(inputs, x)\n",
    "        \n",
    "#     def call(self, inputs):\n",
    "#         user_ids, item_ids = inputs[:, 0], inputs[:, 1]\n",
    "#         user_embed = self.user_embedding(user_ids)\n",
    "#         item_embed = self.item_embedding(item_ids)\n",
    "#         dot_product = tf.reduce_sum(tf.multiply(user_embed, item_embed), axis=1)\n",
    "#         return dot_product\n",
    "\n",
    "\n",
    "# # Training code"
   ]
  },
  {
   "attachments": {},
   "cell_type": "markdown",
   "id": "a9f81db9",
   "metadata": {},
   "source": [
    "## Problem\n",
    "\n",
    "We want to accurately predict which streamer a user consumes at each 10-minute time period. Formally, we model this problem as follows:\n",
    "\n",
    "Let $N$ be the total numer of users and $T$ be the total number of time periods. At each time period $t\\in\\{1,\\ldots,T\\}$, let $A_t$ be the *available* streamers at time period $t$ and $a_{i,t}\\in A_t$ be the streamer whose *available* content we recommend to user $i$. Define the **reward** at time period $t$ to be\n",
    "$$\n",
    "r(a_{i,t}, b_{i,t})=\\begin{cases}\n",
    "1, & \\text{if }a_{i,t} = b_{i,t} \\\\\n",
    "0, & \\text{else}\n",
    "\\end{cases}\n",
    "$$\n",
    "where $b_{i,t}$ is the streamer whose content user $i$ actually consumes in the next time period, $t+1$. We aim to maximize the total reward across all users:\n",
    "$$\n",
    "\\max_{\\{a_{i,j}:i\\in [N],j\\in[T]\\}} \\frac{1}{N}\\sum_{i=1}^N \\frac{1}{T} \\sum_{t=1}^T r(a_{i,t},b_{i,t})\n",
    "$$\n",
    "\n",
    "As the manager of the recommendation system, we can exploit co-occurring patterns in the observed behavior across users (up to the current time period $t$) in order to predict future user behavior. We hope this approach improves recommendations for users that interact very sparingly with the system."
   ]
  },
  {
   "cell_type": "code",
   "execution_count": null,
   "id": "abf9f881",
   "metadata": {},
   "outputs": [],
   "source": [
    "class RecommendationModel(object):\n",
    "    def __init__(self, num_users, num_items, latent_dim) -> None:\n",
    "        self.user_embedding = tf.Variable(np.random.normal(0,1, shape=(num_users, latent_dim)))\n",
    "        self.item_embedding = tf.Variable(np.random.normal(0,1, shape=(num_items, latent_dim)))\n",
    "        self.trainable_variables = [self.user_embedding, self.item_embedding]\n",
    "\n",
    "        self.optimizer = tf.keras.optimizers.Adam()\n",
    "        self.dataset = tf.data.Dataset.from_tensor_slices()\n",
    "        \n",
    "    @tf.function\n",
    "    def loss_fn(self, true_scores, predicted_scores, availability_mask):\n",
    "        return tf.reduce_sum(tf.multiply(predicted_scores - true_scores, availability_mask)**2)\n",
    "\n",
    "    @tf.function\n",
    "    def train_step(self, true_scores, predicted_scores, availability_mask):\n",
    "        with tf.GradientTape() as tape:\n",
    "            predicted_scores = tf.matmul(self.user_embedding, self.item_embedding, transpose_b=True)\n",
    "            loss = self.loss_fn(true_scores, predicted_scores, availability_mask)\n",
    "        gradients = tape.gradient(loss, self.trainable_variables)\n",
    "        self.optimizer.apply_gradients(zip(gradients, self.trainable_variables))\n",
    "        return loss\n",
    "\n",
    "    def run(self, num_steps):\n",
    "        for ts, (true_scores, predicted_scores, av_mask) in enumerate(self.dataset):\n",
    "            # get availability mask\n",
    "\n",
    "            for _ in range(num_steps):\n",
    "                loss = self.train_step(true_scores, predicted_scores, av_mask)\n",
    "            print(f'Timestep {ts+1} - Loss: {loss:.4f}')"
   ]
  }
 ],
 "metadata": {
  "kernelspec": {
   "display_name": "cs482",
   "language": "python",
   "name": "python3"
  },
  "language_info": {
   "codemirror_mode": {
    "name": "ipython",
    "version": 3
   },
   "file_extension": ".py",
   "mimetype": "text/x-python",
   "name": "python",
   "nbconvert_exporter": "python",
   "pygments_lexer": "ipython3",
   "version": "3.10.9"
  },
  "latex_envs": {
   "LaTeX_envs_menu_present": true,
   "autoclose": false,
   "autocomplete": true,
   "bibliofile": "biblio.bib",
   "cite_by": "apalike",
   "current_citInitial": 1,
   "eqLabelWithNumbers": true,
   "eqNumInitial": 1,
   "hotkeys": {
    "equation": "Ctrl-E",
    "itemize": "Ctrl-I"
   },
   "labels_anchors": false,
   "latex_user_defs": false,
   "report_style_numbering": false,
   "user_envs_cfg": false
  },
  "toc": {
   "base_numbering": 1,
   "nav_menu": {},
   "number_sections": true,
   "sideBar": true,
   "skip_h1_title": false,
   "title_cell": "Table of Contents",
   "title_sidebar": "Contents",
   "toc_cell": false,
   "toc_position": {},
   "toc_section_display": true,
   "toc_window_display": false
  },
  "vscode": {
   "interpreter": {
    "hash": "a63886f7d5a60bee07d4ba43d12d558a5f5883e491650bd9c09e5ec5e4e166e4"
   }
  }
 },
 "nbformat": 4,
 "nbformat_minor": 5
}
